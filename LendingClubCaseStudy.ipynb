{
 "cells": [
  {
   "attachments": {},
   "cell_type": "markdown",
   "metadata": {},
   "source": [
    "Reading data from Analyzing the dataset"
   ]
  },
  {
   "cell_type": "code",
   "execution_count": 63,
   "metadata": {},
   "outputs": [
    {
     "name": "stdout",
     "output_type": "stream",
     "text": [
      "<class 'pandas.core.frame.DataFrame'>\n",
      "RangeIndex: 39717 entries, 0 to 39716\n",
      "Columns: 111 entries, id to total_il_high_credit_limit\n",
      "dtypes: float64(74), int64(13), object(24)\n",
      "memory usage: 33.6+ MB\n"
     ]
    },
    {
     "name": "stderr",
     "output_type": "stream",
     "text": [
      "C:\\Users\\amara\\AppData\\Local\\Temp\\ipykernel_5492\\1947706177.py:3: DtypeWarning: Columns (47) have mixed types. Specify dtype option on import or set low_memory=False.\n",
      "  df = pd.read_csv('loan.csv')\n"
     ]
    }
   ],
   "source": [
    "import pandas as pd\n",
    "\n",
    "df = pd.read_csv('loan.csv')\n",
    "\n",
    "df.shape\n",
    "\n",
    "df.info()"
   ]
  },
  {
   "attachments": {},
   "cell_type": "markdown",
   "metadata": {},
   "source": [
    "# Identifying missing values"
   ]
  },
  {
   "cell_type": "code",
   "execution_count": 64,
   "metadata": {},
   "outputs": [],
   "source": [
    "missingData = round(100*(df.isnull().sum()/len(df.id)), 2)\n",
    "missingData.loc[missingData > 0]\n",
    "\n",
    "missingData = list(missingData[missingData >= 50].index)\n"
   ]
  },
  {
   "attachments": {},
   "cell_type": "markdown",
   "metadata": {},
   "source": [
    "## Removing Coloums where the 50% of data is not there"
   ]
  },
  {
   "cell_type": "code",
   "execution_count": 65,
   "metadata": {},
   "outputs": [
    {
     "name": "stdout",
     "output_type": "stream",
     "text": [
      "<class 'pandas.core.frame.DataFrame'>\n",
      "RangeIndex: 39717 entries, 0 to 39716\n",
      "Data columns (total 54 columns):\n",
      " #   Column                      Non-Null Count  Dtype  \n",
      "---  ------                      --------------  -----  \n",
      " 0   id                          39717 non-null  int64  \n",
      " 1   member_id                   39717 non-null  int64  \n",
      " 2   loan_amnt                   39717 non-null  int64  \n",
      " 3   funded_amnt                 39717 non-null  int64  \n",
      " 4   funded_amnt_inv             39717 non-null  float64\n",
      " 5   term                        39717 non-null  object \n",
      " 6   int_rate                    39717 non-null  object \n",
      " 7   installment                 39717 non-null  float64\n",
      " 8   grade                       39717 non-null  object \n",
      " 9   sub_grade                   39717 non-null  object \n",
      " 10  emp_title                   37258 non-null  object \n",
      " 11  emp_length                  38642 non-null  object \n",
      " 12  home_ownership              39717 non-null  object \n",
      " 13  annual_inc                  39717 non-null  float64\n",
      " 14  verification_status         39717 non-null  object \n",
      " 15  issue_d                     39717 non-null  object \n",
      " 16  loan_status                 39717 non-null  object \n",
      " 17  pymnt_plan                  39717 non-null  object \n",
      " 18  url                         39717 non-null  object \n",
      " 19  desc                        26775 non-null  object \n",
      " 20  purpose                     39717 non-null  object \n",
      " 21  title                       39706 non-null  object \n",
      " 22  zip_code                    39717 non-null  object \n",
      " 23  addr_state                  39717 non-null  object \n",
      " 24  dti                         39717 non-null  float64\n",
      " 25  delinq_2yrs                 39717 non-null  int64  \n",
      " 26  earliest_cr_line            39717 non-null  object \n",
      " 27  inq_last_6mths              39717 non-null  int64  \n",
      " 28  open_acc                    39717 non-null  int64  \n",
      " 29  pub_rec                     39717 non-null  int64  \n",
      " 30  revol_bal                   39717 non-null  int64  \n",
      " 31  revol_util                  39667 non-null  object \n",
      " 32  total_acc                   39717 non-null  int64  \n",
      " 33  initial_list_status         39717 non-null  object \n",
      " 34  out_prncp                   39717 non-null  float64\n",
      " 35  out_prncp_inv               39717 non-null  float64\n",
      " 36  total_pymnt                 39717 non-null  float64\n",
      " 37  total_pymnt_inv             39717 non-null  float64\n",
      " 38  total_rec_prncp             39717 non-null  float64\n",
      " 39  total_rec_int               39717 non-null  float64\n",
      " 40  total_rec_late_fee          39717 non-null  float64\n",
      " 41  recoveries                  39717 non-null  float64\n",
      " 42  collection_recovery_fee     39717 non-null  float64\n",
      " 43  last_pymnt_d                39646 non-null  object \n",
      " 44  last_pymnt_amnt             39717 non-null  float64\n",
      " 45  last_credit_pull_d          39715 non-null  object \n",
      " 46  collections_12_mths_ex_med  39661 non-null  float64\n",
      " 47  policy_code                 39717 non-null  int64  \n",
      " 48  application_type            39717 non-null  object \n",
      " 49  acc_now_delinq              39717 non-null  int64  \n",
      " 50  chargeoff_within_12_mths    39661 non-null  float64\n",
      " 51  delinq_amnt                 39717 non-null  int64  \n",
      " 52  pub_rec_bankruptcies        39020 non-null  float64\n",
      " 53  tax_liens                   39678 non-null  float64\n",
      "dtypes: float64(18), int64(13), object(23)\n",
      "memory usage: 16.4+ MB\n"
     ]
    }
   ],
   "source": [
    "cleanedloan = df.drop(missingData,axis=1)\n",
    "\n",
    "cleanedloan.info()"
   ]
  },
  {
   "attachments": {},
   "cell_type": "markdown",
   "metadata": {},
   "source": [
    "## Identify only unique records"
   ]
  },
  {
   "cell_type": "code",
   "execution_count": 66,
   "metadata": {},
   "outputs": [
    {
     "name": "stdout",
     "output_type": "stream",
     "text": [
      "unique emp_title : 28821\n",
      "unique emp_length : 12\n",
      "unique title : 19616\n",
      "unique revol_util : 1090\n",
      "unique title : 19616\n",
      "unique last_pymnt_d : 102\n",
      "unique last_credit_pull_d : 107\n",
      "unique collections_12_mths_ex_med : 2\n",
      "unique chargeoff_within_12_mths : 2\n",
      "unique pub_rec_bankruptcies : 4\n",
      "unique tax_liens : 2\n"
     ]
    }
   ],
   "source": [
    "print(\"unique emp_title : %d\"  % len(cleanedloan.emp_title.unique()))\n",
    "print(\"unique emp_length : %d\"  % len(cleanedloan.emp_length.unique()))\n",
    "print(\"unique title : %d\"  % len(cleanedloan.title.unique()))\n",
    "print(\"unique revol_util : %d\"  % len(cleanedloan.revol_util.unique()))\n",
    "print(\"unique title : %d\"  % len(cleanedloan.title.unique()))\n",
    "print(\"unique last_pymnt_d : %d\"  % len(cleanedloan.last_pymnt_d.unique()))\n",
    "print(\"unique last_credit_pull_d : %d\"  % len(cleanedloan.last_credit_pull_d.unique()))\n",
    "print(\"unique collections_12_mths_ex_med : %d\"  % len(cleanedloan.collections_12_mths_ex_med.unique()))\n",
    "print(\"unique chargeoff_within_12_mths : %d\"  % len(cleanedloan.chargeoff_within_12_mths.unique()))\n",
    "print(\"unique pub_rec_bankruptcies : %d\"  % len(cleanedloan.pub_rec_bankruptcies.unique()))\n",
    "print(\"unique tax_liens : %d\"  % len(cleanedloan.tax_liens.unique()))\n"
   ]
  },
  {
   "attachments": {},
   "cell_type": "markdown",
   "metadata": {},
   "source": [
    "## Remove Data colums which have same values and NA"
   ]
  },
  {
   "cell_type": "code",
   "execution_count": 77,
   "metadata": {},
   "outputs": [
    {
     "name": "stdout",
     "output_type": "stream",
     "text": [
      "['10+ years' '< 1 year' '1 year' '3 years' '8 years' '9 years' '4 years'\n",
      " '5 years' '6 years' '2 years' '7 years' nan]\n",
      "[ 0. nan]\n",
      "[ 0. nan]\n",
      "[ 0.  1.  2. nan]\n",
      "[ 0. nan]\n"
     ]
    },
    {
     "data": {
      "text/plain": [
       "(39717, 51)"
      ]
     },
     "execution_count": 77,
     "metadata": {},
     "output_type": "execute_result"
    }
   ],
   "source": [
    "print(cleanedloan.emp_length.unique())\n",
    "print(cleanedloan.collections_12_mths_ex_med.unique())\n",
    "print(cleanedloan.chargeoff_within_12_mths.unique())\n",
    "print(cleanedloan.pub_rec_bankruptcies.unique())\n",
    "print(cleanedloan.tax_liens.unique())\n",
    "\n",
    "drop_columnlist = ['collections_12_mths_ex_med', 'chargeoff_within_12_mths', 'tax_liens']\n",
    "cleanedloandata = cleanedloan.drop(drop_columnlist,axis=1)\n",
    "cleanedloandata.shape"
   ]
  },
  {
   "attachments": {},
   "cell_type": "markdown",
   "metadata": {},
   "source": [
    "pub_rec_bankruptcies categorical column with 1.76% missing data and 33.125% of description is missing data, these data more or less is avaiable in the title, columns emp_title, emp_length have 6.19% and 2.75% missing values, these tw values are important to derive bad loan or good loan, removing the rows where the data is empty."
   ]
  },
  {
   "cell_type": "code",
   "execution_count": 78,
   "metadata": {},
   "outputs": [
    {
     "data": {
      "text/plain": [
       "Series([], dtype: float64)"
      ]
     },
     "execution_count": 78,
     "metadata": {},
     "output_type": "execute_result"
    }
   ],
   "source": [
    "\n",
    "cleanedloandata = cleanedloandata.drop('desc',axis=1)\n",
    "\n",
    "cleanedloandata.pub_rec_bankruptcies.value_counts()\n",
    "loanDataOuput=cleanedloandata[~cleanedloandata.pub_rec_bankruptcies.isnull()]\n",
    "\n",
    "missing = round(100*(loanDataOuput.isnull().sum()/len(loanDataOuput.id)), 2) \n",
    "missing[missing != 0]\n",
    "\n",
    "\n",
    "loanDataOuput=loanDataOuput[~loanDataOuput.emp_title.isnull()]\n",
    "loanDataOuput=loanDataOuput[~loanDataOuput.emp_length.isnull()]\n",
    "loanDataOuput=loanDataOuput[~loanDataOuput.title.isnull()]\n",
    "loanDataOuput=loanDataOuput[~loanDataOuput.revol_util.isnull()]\n",
    "loanDataOuput=loanDataOuput[~loanDataOuput.last_pymnt_d.isnull()]\n",
    "\n",
    "missing =round(100*(loanDataOuput.isnull().sum()/len(loanDataOuput.id)), 2) \n",
    "missing[missing != 0]"
   ]
  },
  {
   "attachments": {},
   "cell_type": "markdown",
   "metadata": {},
   "source": [
    "## Data Cleaning\n",
    "round off the decimals to last 2 digits and convert the datatimes object to datatime and also convert the object data to float "
   ]
  },
  {
   "cell_type": "code",
   "execution_count": 83,
   "metadata": {},
   "outputs": [
    {
     "name": "stdout",
     "output_type": "stream",
     "text": [
      "<class 'pandas.core.frame.DataFrame'>\n",
      "Index: 36433 entries, 1 to 39680\n",
      "Data columns (total 4 columns):\n",
      " #   Column              Non-Null Count  Dtype         \n",
      "---  ------              --------------  -----         \n",
      " 0   issue_d             36433 non-null  datetime64[ns]\n",
      " 1   earliest_cr_line    36433 non-null  datetime64[ns]\n",
      " 2   last_pymnt_d        36433 non-null  datetime64[ns]\n",
      " 3   last_credit_pull_d  36433 non-null  datetime64[ns]\n",
      "dtypes: datetime64[ns](4)\n",
      "memory usage: 1.4 MB\n"
     ]
    }
   ],
   "source": [
    "loanDataOuput.to_csv('clean_Data.csv', encoding='utf-8', index=False)\n",
    "\n",
    "cleanLoanData = loanDataOuput[:]\n",
    "\n",
    "cleanLoanData.total_pymnt= round(cleanLoanData.total_pymnt,2)\n",
    "cleanLoanData.total_rec_late_fee= round(cleanLoanData.total_rec_late_fee,2)\n",
    "cleanLoanData.collection_recovery_fee= round(cleanLoanData.collection_recovery_fee,2)\n",
    "\n",
    "cleanLoanData.issue_d = pd.to_datetime(cleanLoanData.issue_d, format='%b-%y')\n",
    "cleanLoanData.earliest_cr_line = pd.to_datetime(cleanLoanData.earliest_cr_line, format='%b-%y')\n",
    "cleanLoanData.last_pymnt_d = pd.to_datetime(cleanLoanData.last_pymnt_d, format='%b-%y')\n",
    "cleanLoanData.last_credit_pull_d = pd.to_datetime(cleanLoanData.last_credit_pull_d, format='%b-%y')\n",
    "\n",
    "cleanLoanData['int_rate'] = cleanLoanData['int_rate'].str.strip('%').astype('float')\n",
    "cleanLoanData['revol_util'] = cleanLoanData['revol_util'].str.strip('%').astype('float')\n"
   ]
  },
  {
   "attachments": {},
   "cell_type": "markdown",
   "metadata": {},
   "source": [
    "## Data Transformations\n",
    "\n",
    "Transform Data which can give meaningful results"
   ]
  },
  {
   "cell_type": "code",
   "execution_count": 85,
   "metadata": {},
   "outputs": [
    {
     "data": {
      "text/plain": [
       "term\n",
       "36    26377\n",
       "60    10056\n",
       "Name: count, dtype: int64"
      ]
     },
     "execution_count": 85,
     "metadata": {},
     "output_type": "execute_result"
    }
   ],
   "source": [
    "emp_length_dict = {\n",
    "    '< 1 year' : 0,\n",
    "    '1 year' : 1,\n",
    "    '2 years' : 2,\n",
    "    '3 years' : 3,\n",
    "    '4 years' : 4,\n",
    "    '5 years' : 5,\n",
    "    '6 years' : 6,\n",
    "    '7 years' : 7,\n",
    "    '8 years' : 8,\n",
    "    '9 years' : 9,\n",
    "    '10+ years' : 10\n",
    "}\n",
    "\n",
    "clean_loan = loanDataOuput.replace({\"emp_length\": emp_length_dict })\n",
    "\n",
    "clean_loan.emp_length.value_counts()\n",
    "\n",
    "clean_loan['term'] = clean_loan.term.apply(lambda x: x.split()[0])\n",
    "clean_loan.term.value_counts()"
   ]
  }
 ],
 "metadata": {
  "kernelspec": {
   "display_name": "Python 3",
   "language": "python",
   "name": "python3"
  },
  "language_info": {
   "codemirror_mode": {
    "name": "ipython",
    "version": 3
   },
   "file_extension": ".py",
   "mimetype": "text/x-python",
   "name": "python",
   "nbconvert_exporter": "python",
   "pygments_lexer": "ipython3",
   "version": "3.11.4"
  },
  "orig_nbformat": 4
 },
 "nbformat": 4,
 "nbformat_minor": 2
}
